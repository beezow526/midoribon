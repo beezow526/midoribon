{
  "nbformat": 4,
  "nbformat_minor": 0,
  "metadata": {
    "colab": {
      "name": "Untitled1.ipynb",
      "provenance": [],
      "mount_file_id": "1ZxNlT5kF53XWP_5Urgot8Sb8_PIssmYA",
      "authorship_tag": "ABX9TyOkvPTCLkBgNtEsK+e5qlOQ",
      "include_colab_link": true
    },
    "kernelspec": {
      "name": "python3",
      "display_name": "Python 3"
    },
    "language_info": {
      "name": "python"
    }
  },
  "cells": [
    {
      "cell_type": "markdown",
      "metadata": {
        "id": "view-in-github",
        "colab_type": "text"
      },
      "source": [
        "<a href=\"https://colab.research.google.com/github/beezow526/midoribon/blob/main/Chap6.ipynb\" target=\"_parent\"><img src=\"https://colab.research.google.com/assets/colab-badge.svg\" alt=\"Open In Colab\"/></a>"
      ]
    },
    {
      "cell_type": "code",
      "metadata": {
        "colab": {
          "base_uri": "https://localhost:8080/"
        },
        "id": "JF_z4OKDDUHG",
        "outputId": "fbef2273-3ac9-424c-d227-4c3e3fbc8acc"
      },
      "source": [
        "import numpy as np\n",
        "import pandas as pd\n",
        "import math\n",
        "import matplotlib.pyplot as plt\n",
        "from scipy.stats import norm\n",
        "from scipy.stats import binom\n",
        "import statsmodels.api as sm\n",
        "import statsmodels.formula.api as smf\n",
        "import seaborn as sns\n",
        "\n",
        "%matplotlib inline\n",
        "sns.set()"
      ],
      "execution_count": 1,
      "outputs": [
        {
          "output_type": "stream",
          "name": "stderr",
          "text": [
            "/usr/local/lib/python3.7/dist-packages/statsmodels/tools/_testing.py:19: FutureWarning: pandas.util.testing is deprecated. Use the functions in the public API at pandas.testing instead.\n",
            "  import pandas.util.testing as tm\n"
          ]
        }
      ]
    },
    {
      "cell_type": "code",
      "metadata": {
        "id": "q8OKcJjqDjmv"
      },
      "source": [
        "data = pd.read_csv('/content/Lesson12-1.csv')"
      ],
      "execution_count": 44,
      "outputs": []
    },
    {
      "cell_type": "code",
      "metadata": {
        "colab": {
          "base_uri": "https://localhost:8080/",
          "height": 206
        },
        "id": "hjrD9MRzDmjU",
        "outputId": "92fc54e6-c47e-419e-a792-7e1635725277"
      },
      "source": [
        "data.head()"
      ],
      "execution_count": 45,
      "outputs": [
        {
          "output_type": "execute_result",
          "data": {
            "text/html": [
              "<div>\n",
              "<style scoped>\n",
              "    .dataframe tbody tr th:only-of-type {\n",
              "        vertical-align: middle;\n",
              "    }\n",
              "\n",
              "    .dataframe tbody tr th {\n",
              "        vertical-align: top;\n",
              "    }\n",
              "\n",
              "    .dataframe thead th {\n",
              "        text-align: right;\n",
              "    }\n",
              "</style>\n",
              "<table border=\"1\" class=\"dataframe\">\n",
              "  <thead>\n",
              "    <tr style=\"text-align: right;\">\n",
              "      <th></th>\n",
              "      <th>N</th>\n",
              "      <th>y</th>\n",
              "      <th>x</th>\n",
              "      <th>f</th>\n",
              "    </tr>\n",
              "  </thead>\n",
              "  <tbody>\n",
              "    <tr>\n",
              "      <th>0</th>\n",
              "      <td>8</td>\n",
              "      <td>1</td>\n",
              "      <td>9.76</td>\n",
              "      <td>C</td>\n",
              "    </tr>\n",
              "    <tr>\n",
              "      <th>1</th>\n",
              "      <td>8</td>\n",
              "      <td>6</td>\n",
              "      <td>10.48</td>\n",
              "      <td>C</td>\n",
              "    </tr>\n",
              "    <tr>\n",
              "      <th>2</th>\n",
              "      <td>8</td>\n",
              "      <td>5</td>\n",
              "      <td>10.83</td>\n",
              "      <td>C</td>\n",
              "    </tr>\n",
              "    <tr>\n",
              "      <th>3</th>\n",
              "      <td>8</td>\n",
              "      <td>6</td>\n",
              "      <td>10.94</td>\n",
              "      <td>C</td>\n",
              "    </tr>\n",
              "    <tr>\n",
              "      <th>4</th>\n",
              "      <td>8</td>\n",
              "      <td>1</td>\n",
              "      <td>9.37</td>\n",
              "      <td>C</td>\n",
              "    </tr>\n",
              "  </tbody>\n",
              "</table>\n",
              "</div>"
            ],
            "text/plain": [
              "   N  y      x  f\n",
              "0  8  1   9.76  C\n",
              "1  8  6  10.48  C\n",
              "2  8  5  10.83  C\n",
              "3  8  6  10.94  C\n",
              "4  8  1   9.37  C"
            ]
          },
          "metadata": {},
          "execution_count": 45
        }
      ]
    },
    {
      "cell_type": "code",
      "metadata": {
        "colab": {
          "base_uri": "https://localhost:8080/",
          "height": 394
        },
        "id": "IF3yUQtVDt3E",
        "outputId": "2f9b1756-b8b3-432f-c903-7bed86cb8a33"
      },
      "source": [
        "data_C = data.query('f == \"C\"')\n",
        "data_T = data.query('f == \"T\"')\n",
        "\n",
        "fig, ax = plt.subplots(figsize=(9,6))\n",
        "\n",
        "plt.scatter(data_C['x'],data_C['y'],label='C')\n",
        "plt.scatter(data_T['x'],data_T['y'],label='T')\n",
        "\n",
        "plt.legend()\n"
      ],
      "execution_count": 46,
      "outputs": [
        {
          "output_type": "execute_result",
          "data": {
            "text/plain": [
              "<matplotlib.legend.Legend at 0x7f43338b3d90>"
            ]
          },
          "metadata": {},
          "execution_count": 46
        },
        {
          "output_type": "display_data",
          "data": {
            "image/png": "[encoded data removed]",
            "text/plain": [
              "<Figure size 648x432 with 1 Axes>"
            ]
          },
          "metadata": {
            "needs_background": "light"
          }
        }
      ]
    },
    {
      "cell_type": "code",
      "metadata": {
        "colab": {
          "base_uri": "https://localhost:8080/",
          "height": 285
        },
        "id": "VRraxM4GEWX_",
        "outputId": "2f0a376d-8f61-4ae0-9bed-b7dbef83355f"
      },
      "source": [
        "q_list = [0.1,0.3,0.8]\n",
        "p_dicts =dict()\n",
        "for q in q_list:\n",
        "    p_dict = dict()\n",
        "    for i in range(0,9):\n",
        "        p_dict.update({i:0})\n",
        "    for _ in range(1000):\n",
        "        rnd = np.random.binomial(8,p=q)\n",
        "        p_dict[rnd] += 1\n",
        "    \n",
        "    for i in range(0,9):\n",
        "        p_dict[i] /= 1000\n",
        "        \n",
        "    p_dicts.update({q: p_dict})\n",
        "\n",
        "for param,dictionary in p_dicts.items():\n",
        "    plt.plot(list(dictionary.keys()),list(dictionary.values()),label=str(param))\n",
        "    \n",
        "plt.legend()\n"
      ],
      "execution_count": 10,
      "outputs": [
        {
          "output_type": "execute_result",
          "data": {
            "text/plain": [
              "<matplotlib.legend.Legend at 0x7f4333efefd0>"
            ]
          },
          "metadata": {},
          "execution_count": 10
        },
        {
          "output_type": "display_data",
          "data": {
            "image/png": "[encoded data removed]",
            "text/plain": [
              "<Figure size 432x288 with 1 Axes>"
            ]
          },
          "metadata": {
            "needs_background": "light"
          }
        }
      ]
    },
    {
      "cell_type": "code",
      "metadata": {
        "id": "9pAKENuuIaiJ"
      },
      "source": [
        "def sigmoid(x):\n",
        "  return 1 / (1+np.exp(-x))\n",
        "\n",
        "x = np.arange(-6,6,0.1)\n",
        "y = sigmoid(x)"
      ],
      "execution_count": 11,
      "outputs": []
    },
    {
      "cell_type": "code",
      "metadata": {
        "colab": {
          "base_uri": "https://localhost:8080/",
          "height": 285
        },
        "id": "CHDic9F1JdcC",
        "outputId": "c673251c-31ad-401f-b075-5352886c0f9a"
      },
      "source": [
        "plt.plot(x,y)"
      ],
      "execution_count": 12,
      "outputs": [
        {
          "output_type": "execute_result",
          "data": {
            "text/plain": [
              "[<matplotlib.lines.Line2D at 0x7f4333dfe790>]"
            ]
          },
          "metadata": {},
          "execution_count": 12
        },
        {
          "output_type": "display_data",
          "data": {
            "image/png": "[encoded data removed]",
            "text/plain": [
              "<Figure size 432x288 with 1 Axes>"
            ]
          },
          "metadata": {
            "needs_background": "light"
          }
        }
      ]
    },
    {
      "cell_type": "code",
      "metadata": {
        "colab": {
          "base_uri": "https://localhost:8080/",
          "height": 316
        },
        "id": "uZFKgu5hJgvT",
        "outputId": "16ce0f3a-3691-47c3-863d-4164930cdcbe"
      },
      "source": [
        "import statsmodels.api as sm\n",
        "import statsmodels.formula.api as smf\n",
        "\n",
        "data['ny'] = data['N'] - data['y']  # 発芽能力の無い種子数のカラム ny を追加\n",
        "model1 = smf.glm(formula='y + ny ~ x + f', data=data, family=sm.families.Binomial()).fit(disp=0)\n",
        "model1.summary()"
      ],
      "execution_count": 47,
      "outputs": [
        {
          "output_type": "execute_result",
          "data": {
            "text/html": [
              "<table class=\"simpletable\">\n",
              "<caption>Generalized Linear Model Regression Results</caption>\n",
              "<tr>\n",
              "  <th>Dep. Variable:</th>      <td>['y', 'ny']</td>   <th>  No. Observations:  </th>  <td>   100</td> \n",
              "</tr>\n",
              "<tr>\n",
              "  <th>Model:</th>                  <td>GLM</td>       <th>  Df Residuals:      </th>  <td>    97</td> \n",
              "</tr>\n",
              "<tr>\n",
              "  <th>Model Family:</th>        <td>Binomial</td>     <th>  Df Model:          </th>  <td>     2</td> \n",
              "</tr>\n",
              "<tr>\n",
              "  <th>Link Function:</th>         <td>logit</td>      <th>  Scale:             </th> <td>  1.0000</td>\n",
              "</tr>\n",
              "<tr>\n",
              "  <th>Method:</th>                <td>IRLS</td>       <th>  Log-Likelihood:    </th> <td> -133.11</td>\n",
              "</tr>\n",
              "<tr>\n",
              "  <th>Date:</th>            <td>Sun, 03 Oct 2021</td> <th>  Deviance:          </th> <td>  123.03</td>\n",
              "</tr>\n",
              "<tr>\n",
              "  <th>Time:</th>                <td>13:07:40</td>     <th>  Pearson chi2:      </th>  <td>  109.</td> \n",
              "</tr>\n",
              "<tr>\n",
              "  <th>No. Iterations:</th>          <td>6</td>        <th>                     </th>     <td> </td>   \n",
              "</tr>\n",
              "<tr>\n",
              "  <th>Covariance Type:</th>     <td>nonrobust</td>    <th>                     </th>     <td> </td>   \n",
              "</tr>\n",
              "</table>\n",
              "<table class=\"simpletable\">\n",
              "<tr>\n",
              "      <td></td>         <th>coef</th>     <th>std err</th>      <th>z</th>      <th>P>|z|</th>  <th>[0.025</th>    <th>0.975]</th>  \n",
              "</tr>\n",
              "<tr>\n",
              "  <th>Intercept</th> <td>  -19.5361</td> <td>    1.414</td> <td>  -13.818</td> <td> 0.000</td> <td>  -22.307</td> <td>  -16.765</td>\n",
              "</tr>\n",
              "<tr>\n",
              "  <th>f[T.T]</th>    <td>    2.0215</td> <td>    0.231</td> <td>    8.740</td> <td> 0.000</td> <td>    1.568</td> <td>    2.475</td>\n",
              "</tr>\n",
              "<tr>\n",
              "  <th>x</th>         <td>    1.9524</td> <td>    0.139</td> <td>   14.059</td> <td> 0.000</td> <td>    1.680</td> <td>    2.225</td>\n",
              "</tr>\n",
              "</table>"
            ],
            "text/plain": [
              "<class 'statsmodels.iolib.summary.Summary'>\n",
              "\"\"\"\n",
              "                 Generalized Linear Model Regression Results                  \n",
              "==============================================================================\n",
              "Dep. Variable:            ['y', 'ny']   No. Observations:                  100\n",
              "Model:                            GLM   Df Residuals:                       97\n",
              "Model Family:                Binomial   Df Model:                            2\n",
              "Link Function:                  logit   Scale:                          1.0000\n",
              "Method:                          IRLS   Log-Likelihood:                -133.11\n",
              "Date:                Sun, 03 Oct 2021   Deviance:                       123.03\n",
              "Time:                        13:07:40   Pearson chi2:                     109.\n",
              "No. Iterations:                     6                                         \n",
              "Covariance Type:            nonrobust                                         \n",
              "==============================================================================\n",
              "                 coef    std err          z      P>|z|      [0.025      0.975]\n",
              "------------------------------------------------------------------------------\n",
              "Intercept    -19.5361      1.414    -13.818      0.000     -22.307     -16.765\n",
              "f[T.T]         2.0215      0.231      8.740      0.000       1.568       2.475\n",
              "x              1.9524      0.139     14.059      0.000       1.680       2.225\n",
              "==============================================================================\n",
              "\"\"\""
            ]
          },
          "metadata": {},
          "execution_count": 47
        }
      ]
    },
    {
      "cell_type": "code",
      "metadata": {
        "colab": {
          "base_uri": "https://localhost:8080/",
          "height": 285
        },
        "id": "G16ZH-2TNDl9",
        "outputId": "22d8e008-f71c-47ab-aaa1-96409feb6fee"
      },
      "source": [
        "#肥料なし\n",
        "data_C = data_C.sort_values(\"x\")\n",
        "pred_C = model1.predict(data_C.loc[:,[\"x\",\"f\"]])\n",
        "\n",
        "#肥料あり\n",
        "data_T = data_T.sort_values(\"x\")\n",
        "pred_T = model1.predict(data_T.loc[:,[\"x\",\"f\"]])\n",
        "\n",
        "plt.scatter(data_C[\"x\"],data_C[\"y\"],color=\"red\",label=\"C\")\n",
        "plt.plot(data_C[\"x\"],8*pred_C,color=\"red\")\n",
        "\n",
        "plt.scatter(data_T[\"x\"],data_T[\"y\"],color=\"blue\",label=\"T\")\n",
        "plt.plot(data_T[\"x\"],8*pred_T,color=\"blue\")\n",
        "\n",
        "plt.legend()"
      ],
      "execution_count": 48,
      "outputs": [
        {
          "output_type": "execute_result",
          "data": {
            "text/plain": [
              "<matplotlib.legend.Legend at 0x7f43334c9dd0>"
            ]
          },
          "metadata": {},
          "execution_count": 48
        },
        {
          "output_type": "display_data",
          "data": {
            "image/png": "[encoded data removed]",
            "text/plain": [
              "<Figure size 432x288 with 1 Axes>"
            ]
          },
          "metadata": {
            "needs_background": "light"
          }
        }
      ]
    },
    {
      "cell_type": "code",
      "metadata": {
        "colab": {
          "base_uri": "https://localhost:8080/",
          "height": 284
        },
        "id": "TKBRWSukOuIi",
        "outputId": "ca2d665a-e6b8-439b-9525-434e48972bd6"
      },
      "source": [
        "#predictを使わずに\n",
        "b1 = model1.params[0]\n",
        "b2 = model1.params[2]\n",
        "b3 = model1.params[1]\n",
        "\n",
        "x = np.linspace(7,12,100)\n",
        "x_c = x*b2 + b1\n",
        "z_t = x*b2 + b1 + b3\n",
        "y_c = sigmoid(x_c)\n",
        "y_t = sigmoid(z_t)\n",
        "\n",
        "plt.subplot(2,1,1)\n",
        "plt.plot(x,y_c)\n",
        "plt.title(\"C\")\n",
        "\n",
        "plt.subplot(2,1,2)\n",
        "plt.plot(x,y_t)\n",
        "plt.title(\"T\")\n",
        "\n",
        "plt.show()"
      ],
      "execution_count": 51,
      "outputs": [
        {
          "output_type": "display_data",
          "data": {
            "image/png": "[encoded data removed]",
            "text/plain": [
              "<Figure size 432x288 with 2 Axes>"
            ]
          },
          "metadata": {
            "needs_background": "light"
          }
        }
      ]
    },
    {
      "cell_type": "code",
      "metadata": {
        "colab": {
          "base_uri": "https://localhost:8080/"
        },
        "id": "j-RibJihRn8l",
        "outputId": "8c46afd8-8181-495a-b064-3cfb78f85d5d"
      },
      "source": [
        "#StepAICはないので自作関数で網羅的に探索\n",
        "\n",
        "formula_list = [\"y+(N-y) ~1\",\"y+(N-y)~f\",\"y+(N-y)~x\",\"y+(N-y)~x+f\"]\n",
        "\n",
        "for formula in formula_list:\n",
        "  model = smf.glm(formula,data=data,family=sm.families.Binomial())\n",
        "  result = model.fit()\n",
        "  print(formula,-2*(result.llf-(result.df_model+1)))"
      ],
      "execution_count": 52,
      "outputs": [
        {
          "output_type": "stream",
          "name": "stdout",
          "text": [
            "y+(N-y) ~1 412.39456801224645\n",
            "y+(N-y)~f 412.46513133917347\n",
            "y+(N-y)~x 353.92891994781877\n",
            "y+(N-y)~x+f 341.005407191829\n"
          ]
        }
      ]
    },
    {
      "cell_type": "code",
      "metadata": {
        "colab": {
          "base_uri": "https://localhost:8080/"
        },
        "id": "Cp7GxK3HUVR2",
        "outputId": "7741f67d-83ec-46cc-c554-36a3cb2871a1"
      },
      "source": [
        "import urllib.request\n",
        "from io import StringIO\n",
        "\n",
        "url = \"https://raw.githubusercontent.com/takitsuba/midoribon/master/Chap6/data4b.csv\"\n",
        "\n",
        "#csvを読み込む関数\n",
        "def read_csv(url):\n",
        "    print(url)\n",
        "    res = urllib.request.urlopen(url)\n",
        "    res = res.read().decode(\"utf-8\")\n",
        "    df = pd.read_csv(StringIO( res) )\n",
        "    return df\n",
        "\n",
        "df = read_csv(url)"
      ],
      "execution_count": 54,
      "outputs": [
        {
          "output_type": "stream",
          "name": "stdout",
          "text": [
            "https://raw.githubusercontent.com/takitsuba/midoribon/master/Chap6/data4b.csv\n"
          ]
        }
      ]
    },
    {
      "cell_type": "code",
      "metadata": {
        "colab": {
          "base_uri": "https://localhost:8080/",
          "height": 424
        },
        "id": "wT9JgTyoWdFW",
        "outputId": "74f2e0c1-8b72-4ecb-b861-18c6b62cd6ce"
      },
      "source": [
        "df"
      ],
      "execution_count": 59,
      "outputs": [
        {
          "output_type": "execute_result",
          "data": {
            "text/html": [
              "<div>\n",
              "<style scoped>\n",
              "    .dataframe tbody tr th:only-of-type {\n",
              "        vertical-align: middle;\n",
              "    }\n",
              "\n",
              "    .dataframe tbody tr th {\n",
              "        vertical-align: top;\n",
              "    }\n",
              "\n",
              "    .dataframe thead th {\n",
              "        text-align: right;\n",
              "    }\n",
              "</style>\n",
              "<table border=\"1\" class=\"dataframe\">\n",
              "  <thead>\n",
              "    <tr style=\"text-align: right;\">\n",
              "      <th></th>\n",
              "      <th>y</th>\n",
              "      <th>x</th>\n",
              "      <th>A</th>\n",
              "    </tr>\n",
              "  </thead>\n",
              "  <tbody>\n",
              "    <tr>\n",
              "      <th>0</th>\n",
              "      <td>57</td>\n",
              "      <td>0.68</td>\n",
              "      <td>10.3</td>\n",
              "    </tr>\n",
              "    <tr>\n",
              "      <th>1</th>\n",
              "      <td>64</td>\n",
              "      <td>0.27</td>\n",
              "      <td>15.6</td>\n",
              "    </tr>\n",
              "    <tr>\n",
              "      <th>2</th>\n",
              "      <td>49</td>\n",
              "      <td>0.46</td>\n",
              "      <td>10.0</td>\n",
              "    </tr>\n",
              "    <tr>\n",
              "      <th>3</th>\n",
              "      <td>64</td>\n",
              "      <td>0.45</td>\n",
              "      <td>14.9</td>\n",
              "    </tr>\n",
              "    <tr>\n",
              "      <th>4</th>\n",
              "      <td>82</td>\n",
              "      <td>0.74</td>\n",
              "      <td>14.0</td>\n",
              "    </tr>\n",
              "    <tr>\n",
              "      <th>...</th>\n",
              "      <td>...</td>\n",
              "      <td>...</td>\n",
              "      <td>...</td>\n",
              "    </tr>\n",
              "    <tr>\n",
              "      <th>95</th>\n",
              "      <td>57</td>\n",
              "      <td>0.76</td>\n",
              "      <td>9.8</td>\n",
              "    </tr>\n",
              "    <tr>\n",
              "      <th>96</th>\n",
              "      <td>49</td>\n",
              "      <td>0.17</td>\n",
              "      <td>12.5</td>\n",
              "    </tr>\n",
              "    <tr>\n",
              "      <th>97</th>\n",
              "      <td>95</td>\n",
              "      <td>0.98</td>\n",
              "      <td>11.4</td>\n",
              "    </tr>\n",
              "    <tr>\n",
              "      <th>98</th>\n",
              "      <td>27</td>\n",
              "      <td>0.54</td>\n",
              "      <td>5.4</td>\n",
              "    </tr>\n",
              "    <tr>\n",
              "      <th>99</th>\n",
              "      <td>71</td>\n",
              "      <td>0.47</td>\n",
              "      <td>13.5</td>\n",
              "    </tr>\n",
              "  </tbody>\n",
              "</table>\n",
              "<p>100 rows × 3 columns</p>\n",
              "</div>"
            ],
            "text/plain": [
              "     y     x     A\n",
              "0   57  0.68  10.3\n",
              "1   64  0.27  15.6\n",
              "2   49  0.46  10.0\n",
              "3   64  0.45  14.9\n",
              "4   82  0.74  14.0\n",
              "..  ..   ...   ...\n",
              "95  57  0.76   9.8\n",
              "96  49  0.17  12.5\n",
              "97  95  0.98  11.4\n",
              "98  27  0.54   5.4\n",
              "99  71  0.47  13.5\n",
              "\n",
              "[100 rows x 3 columns]"
            ]
          },
          "metadata": {},
          "execution_count": 59
        }
      ]
    },
    {
      "cell_type": "code",
      "metadata": {
        "id": "w1gL3JCLZdAf"
      },
      "source": [
        "#offset項で予測\n",
        "model = smf.glm(\"y~x\",offset=np.log(df[\"A\"]),data=df,family=sm.families.Poisson())"
      ],
      "execution_count": 61,
      "outputs": []
    },
    {
      "cell_type": "code",
      "metadata": {
        "colab": {
          "base_uri": "https://localhost:8080/",
          "height": 295
        },
        "id": "by4XguLkZ77x",
        "outputId": "108930c4-0015-4109-ca3b-8fe122f66ee7"
      },
      "source": [
        "result = model.fit(disp=0)\n",
        "result.summary()"
      ],
      "execution_count": 62,
      "outputs": [
        {
          "output_type": "execute_result",
          "data": {
            "text/html": [
              "<table class=\"simpletable\">\n",
              "<caption>Generalized Linear Model Regression Results</caption>\n",
              "<tr>\n",
              "  <th>Dep. Variable:</th>           <td>y</td>        <th>  No. Observations:  </th>  <td>   100</td> \n",
              "</tr>\n",
              "<tr>\n",
              "  <th>Model:</th>                  <td>GLM</td>       <th>  Df Residuals:      </th>  <td>    98</td> \n",
              "</tr>\n",
              "<tr>\n",
              "  <th>Model Family:</th>         <td>Poisson</td>     <th>  Df Model:          </th>  <td>     1</td> \n",
              "</tr>\n",
              "<tr>\n",
              "  <th>Link Function:</th>          <td>log</td>       <th>  Scale:             </th> <td>  1.0000</td>\n",
              "</tr>\n",
              "<tr>\n",
              "  <th>Method:</th>                <td>IRLS</td>       <th>  Log-Likelihood:    </th> <td> -323.17</td>\n",
              "</tr>\n",
              "<tr>\n",
              "  <th>Date:</th>            <td>Sun, 03 Oct 2021</td> <th>  Deviance:          </th> <td>  81.608</td>\n",
              "</tr>\n",
              "<tr>\n",
              "  <th>Time:</th>                <td>13:51:19</td>     <th>  Pearson chi2:      </th>  <td>  81.5</td> \n",
              "</tr>\n",
              "<tr>\n",
              "  <th>No. Iterations:</th>          <td>4</td>        <th>                     </th>     <td> </td>   \n",
              "</tr>\n",
              "<tr>\n",
              "  <th>Covariance Type:</th>     <td>nonrobust</td>    <th>                     </th>     <td> </td>   \n",
              "</tr>\n",
              "</table>\n",
              "<table class=\"simpletable\">\n",
              "<tr>\n",
              "      <td></td>         <th>coef</th>     <th>std err</th>      <th>z</th>      <th>P>|z|</th>  <th>[0.025</th>    <th>0.975]</th>  \n",
              "</tr>\n",
              "<tr>\n",
              "  <th>Intercept</th> <td>    0.9731</td> <td>    0.045</td> <td>   21.600</td> <td> 0.000</td> <td>    0.885</td> <td>    1.061</td>\n",
              "</tr>\n",
              "<tr>\n",
              "  <th>x</th>         <td>    1.0383</td> <td>    0.078</td> <td>   13.364</td> <td> 0.000</td> <td>    0.886</td> <td>    1.191</td>\n",
              "</tr>\n",
              "</table>"
            ],
            "text/plain": [
              "<class 'statsmodels.iolib.summary.Summary'>\n",
              "\"\"\"\n",
              "                 Generalized Linear Model Regression Results                  \n",
              "==============================================================================\n",
              "Dep. Variable:                      y   No. Observations:                  100\n",
              "Model:                            GLM   Df Residuals:                       98\n",
              "Model Family:                 Poisson   Df Model:                            1\n",
              "Link Function:                    log   Scale:                          1.0000\n",
              "Method:                          IRLS   Log-Likelihood:                -323.17\n",
              "Date:                Sun, 03 Oct 2021   Deviance:                       81.608\n",
              "Time:                        13:51:19   Pearson chi2:                     81.5\n",
              "No. Iterations:                     4                                         \n",
              "Covariance Type:            nonrobust                                         \n",
              "==============================================================================\n",
              "                 coef    std err          z      P>|z|      [0.025      0.975]\n",
              "------------------------------------------------------------------------------\n",
              "Intercept      0.9731      0.045     21.600      0.000       0.885       1.061\n",
              "x              1.0383      0.078     13.364      0.000       0.886       1.191\n",
              "==============================================================================\n",
              "\"\"\""
            ]
          },
          "metadata": {},
          "execution_count": 62
        }
      ]
    },
    {
      "cell_type": "code",
      "metadata": {
        "colab": {
          "base_uri": "https://localhost:8080/",
          "height": 306
        },
        "id": "fcReqQ7AaFbZ",
        "outputId": "85026f65-3127-4224-b60d-25bdf6ba5b40"
      },
      "source": [
        "#可視化\n",
        "plt.scatter(df[\"A\"],df[\"y\"],c=df[\"x\"])\n",
        "plt.colorbar()\n",
        "\n",
        "plt.xlim(0.18)\n",
        "plt.ylim(0,100)\n",
        "\n",
        "plt.xlabel(\"A\")\n",
        "plt.ylabel(\"y\")"
      ],
      "execution_count": 64,
      "outputs": [
        {
          "output_type": "execute_result",
          "data": {
            "text/plain": [
              "Text(0, 0.5, 'y')"
            ]
          },
          "metadata": {},
          "execution_count": 64
        },
        {
          "output_type": "display_data",
          "data": {
            "image/png": "[encoded data removed]",
            "text/plain": [
              "<Figure size 432x288 with 2 Axes>"
            ]
          },
          "metadata": {
            "needs_background": "light"
          }
        }
      ]
    },
    {
      "cell_type": "code",
      "metadata": {
        "colab": {
          "base_uri": "https://localhost:8080/",
          "height": 289
        },
        "id": "a68l36lfbfCW",
        "outputId": "3f272cbf-9173-43c6-96e1-c46982347461"
      },
      "source": [
        "#モデルで予測されたものを反映した可視化\n",
        "df_predict = pd.DataFrame()\n",
        "df_predict[\"x\"] = 0\n",
        "df_predict[\"A\"] = np.arange(0.1,20,0.1)\n",
        "x_list = [0.1,0.3,0.5,0.7,0.9]\n",
        "\n",
        "plt.scatter(df[\"A\"],df[\"y\"],c=df[\"x\"])\n",
        "plt.colorbar()\n",
        "plt.xlim(0.18)\n",
        "plt.ylim(0,100)\n",
        "\n",
        "plt.xlabel(\"A\")\n",
        "plt.ylabel(\"y\")\n",
        "\n",
        "for x in x_list:\n",
        "  df_predict[\"x\"] = x #一度Aと対応させるようにｘを代入\n",
        "  plt.plot(df_predict[\"A\"],result.predict(df_predict,offset=np.log(df_predict[\"A\"])),label=x)\n",
        "  plt.legend()\n"
      ],
      "execution_count": 69,
      "outputs": [
        {
          "output_type": "display_data",
          "data": {
            "image/png": "[encoded data removed]",
            "text/plain": [
              "<Figure size 432x288 with 2 Axes>"
            ]
          },
          "metadata": {
            "needs_background": "light"
          }
        }
      ]
    },
    {
      "cell_type": "code",
      "metadata": {
        "colab": {
          "base_uri": "https://localhost:8080/",
          "height": 285
        },
        "id": "LG2WOdJkcIRQ",
        "outputId": "7fce647e-6ba0-45d3-f5f6-421d44474e0c"
      },
      "source": [
        "#確率密度の図示\n",
        "import scipy.stats as sct\n",
        "\n",
        "y = np.arange(-5,5,0.1)\n",
        "plt.plot(pd.Series(sct.norm.pdf(y, loc=0, scale=1), index=y), label=r'$\\mu=0, \\sigma=1$')\n",
        "plt.plot(pd.Series(sct.norm.pdf(y, loc=0, scale=3), index=y), label=r'$\\mu=0, \\sigma=3$')\n",
        "plt.plot(pd.Series(sct.norm.pdf(y, loc=2, scale=1), index=y), label=r'$\\mu=2, \\sigma=1$')\n",
        "plt.legend()"
      ],
      "execution_count": 70,
      "outputs": [
        {
          "output_type": "execute_result",
          "data": {
            "text/plain": [
              "<matplotlib.legend.Legend at 0x7f4332a1e490>"
            ]
          },
          "metadata": {},
          "execution_count": 70
        },
        {
          "output_type": "display_data",
          "data": {
            "image/png": "[encoded data removed]",
            "text/plain": [
              "<Figure size 432x288 with 1 Axes>"
            ]
          },
          "metadata": {
            "needs_background": "light"
          }
        }
      ]
    },
    {
      "cell_type": "code",
      "metadata": {
        "id": "vuiitei4fkvF"
      },
      "source": [
        "#確率の計算をするには、平均μ、標準偏差を指定し、調べたい確率の範囲を決める\n",
        "def menseki(begin,end,loc,scale):\n",
        "  menseki_begin = sct.norm.cdf(x=begin,loc=loc,scale=scale)\n",
        "  menseki_end = sct.norm.cdf(x=end,loc=loc,scale=scale)\n",
        "  return menseki_end - menseki_begin"
      ],
      "execution_count": 71,
      "outputs": []
    },
    {
      "cell_type": "code",
      "metadata": {
        "colab": {
          "base_uri": "https://localhost:8080/"
        },
        "id": "G37vLyYmg6pR",
        "outputId": "1c934b3c-ff77-4c3b-ddef-47416e92e161"
      },
      "source": [
        "menseki(1.2,1.8,0,1)"
      ],
      "execution_count": 72,
      "outputs": [
        {
          "output_type": "execute_result",
          "data": {
            "text/plain": [
              "0.07913935110878245"
            ]
          },
          "metadata": {},
          "execution_count": 72
        }
      ]
    },
    {
      "cell_type": "code",
      "metadata": {
        "colab": {
          "base_uri": "https://localhost:8080/"
        },
        "id": "gWWbUOdshAr5",
        "outputId": "6241a947-fecb-4b45-ebdd-35e4758b94f3"
      },
      "source": [
        "%cd /content/drive/My Drive/Colabdata/"
      ],
      "execution_count": 73,
      "outputs": [
        {
          "output_type": "stream",
          "name": "stdout",
          "text": [
            "[Errno 2] No such file or directory: '/content/drive/My Drive/Colabdata/'\n",
            "/content\n"
          ]
        }
      ]
    },
    {
      "cell_type": "code",
      "metadata": {
        "colab": {
          "base_uri": "https://localhost:8080/"
        },
        "id": "EgXYfbjIlMfF",
        "outputId": "2e34267f-ebbf-4b21-ee90-51d596361c81"
      },
      "source": [
        "!git clone https://github.com/reponame.git"
      ],
      "execution_count": 74,
      "outputs": [
        {
          "output_type": "stream",
          "name": "stdout",
          "text": [
            "Cloning into 'reponame'...\n",
            "remote: Not Found\n",
            "fatal: repository 'https://github.com/reponame.git/' not found\n"
          ]
        }
      ]
    },
    {
      "cell_type": "code",
      "metadata": {
        "id": "gvSme8yZlPu7"
      },
      "source": [
        "!git config --global user.email \"ainj_hamn526@yahoo.co.jp\""
      ],
      "execution_count": 75,
      "outputs": []
    },
    {
      "cell_type": "code",
      "metadata": {
        "id": "bXlwoUmHlYxl"
      },
      "source": [
        "!git config --global user.name \"beezow526\""
      ],
      "execution_count": 76,
      "outputs": []
    },
    {
      "cell_type": "code",
      "metadata": {
        "colab": {
          "base_uri": "https://localhost:8080/"
        },
        "id": "k1kKzC8JleQ1",
        "outputId": "94378028-c6df-4b80-8422-7a437838e738"
      },
      "source": [
        "!git add file.py"
      ],
      "execution_count": 77,
      "outputs": [
        {
          "output_type": "stream",
          "name": "stdout",
          "text": [
            "fatal: not a git repository (or any of the parent directories): .git\n"
          ]
        }
      ]
    },
    {
      "cell_type": "code",
      "metadata": {
        "colab": {
          "base_uri": "https://localhost:8080/"
        },
        "id": "tM_5_TG7lgXt",
        "outputId": "96703aea-27bf-4600-c2c2-65e52623a420"
      },
      "source": [
        "!git commit -m \"Added new file.\""
      ],
      "execution_count": 78,
      "outputs": [
        {
          "output_type": "stream",
          "name": "stdout",
          "text": [
            "fatal: not a git repository (or any of the parent directories): .git\n"
          ]
        }
      ]
    },
    {
      "cell_type": "code",
      "metadata": {
        "colab": {
          "base_uri": "https://localhost:8080/"
        },
        "id": "AgU3Bmx8lngW",
        "outputId": "fe0ec26c-1140-413d-cbf8-ec2c62bda0b9"
      },
      "source": [
        "!git push origin master"
      ],
      "execution_count": 79,
      "outputs": [
        {
          "output_type": "stream",
          "name": "stdout",
          "text": [
            "fatal: not a git repository (or any of the parent directories): .git\n"
          ]
        }
      ]
    },
    {
      "cell_type": "code",
      "metadata": {
        "colab": {
          "base_uri": "https://localhost:8080/",
          "height": 135
        },
        "id": "o9ME88Nzlq14",
        "outputId": "cdf56f07-f93a-48bd-8538-755fafaf832d"
      },
      "source": [
        "git branch <branchname>"
      ],
      "execution_count": 80,
      "outputs": [
        {
          "output_type": "error",
          "ename": "SyntaxError",
          "evalue": "ignored",
          "traceback": [
            "\u001b[0;36m  File \u001b[0;32m\"<ipython-input-80-e39475af0b6e>\"\u001b[0;36m, line \u001b[0;32m1\u001b[0m\n\u001b[0;31m    git branch <branchname>\u001b[0m\n\u001b[0m             ^\u001b[0m\n\u001b[0;31mSyntaxError\u001b[0m\u001b[0;31m:\u001b[0m invalid syntax\n"
          ]
        }
      ]
    },
    {
      "cell_type": "code",
      "metadata": {
        "id": "0Rz_XZkpnAbF"
      },
      "source": [
        ""
      ],
      "execution_count": null,
      "outputs": []
    }
  ]
}